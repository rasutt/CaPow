{
 "cells": [
  {
   "cell_type": "markdown",
   "id": "5e3ac4ae-3e0a-4c99-91ea-93f2905e927a",
   "metadata": {},
   "source": [
    "Attempting to write the popan model likelihood in jax."
   ]
  },
  {
   "cell_type": "code",
   "execution_count": 2,
   "id": "9df60733-5220-4dc3-b4ee-6b82d258036b",
   "metadata": {},
   "outputs": [],
   "source": [
    "# Import packages\n",
    "import numpy as np\n",
    "import jax.numpy as jnp\n",
    "from jax import grad, jit, vmap\n",
    "from jax import random\n",
    "import jax.ops"
   ]
  },
  {
   "cell_type": "code",
   "execution_count": null,
   "id": "9eea62ce-422c-4a6a-b60b-aef143dab0cf",
   "metadata": {},
   "outputs": [],
   "source": [
    "# Unpack parameters\n",
    "\n",
    "# Getting the right parameter values is a little compicated because they can be\n",
    "# held constant or only specified in survey years rather than all years...\n",
    "\n",
    "# I can still probably tidying this up a lot later when everything's working ok\n",
    "\n",
    "# Replace any parameter slots with parameters-to-be-estimated in allvalues \n",
    "# with their current values from pars\n",
    "allvalues = constvalues\n",
    "for i in range(len(indsinsertintoallvalues)):\n",
    "    allvalues[indsinsertintoallvalues[i]] = pars[whichparsintoallvalues[i]]\n",
    "    \n",
    "N = allvalues[Nind]\n",
    "\n",
    "n_phi = len(phiinds)\n",
    "phivec = jnp.zeros(n_phi)\n",
    "for i in range(n_phi):\n",
    "    phivec[i] = allvalues[phiinds[i]]\n"
   ]
  }
 ],
 "metadata": {
  "kernelspec": {
   "display_name": "Python 3",
   "language": "python",
   "name": "python3"
  },
  "language_info": {
   "codemirror_mode": {
    "name": "ipython",
    "version": 3
   },
   "file_extension": ".py",
   "mimetype": "text/x-python",
   "name": "python",
   "nbconvert_exporter": "python",
   "pygments_lexer": "ipython3",
   "version": "3.8.8"
  }
 },
 "nbformat": 4,
 "nbformat_minor": 5
}
