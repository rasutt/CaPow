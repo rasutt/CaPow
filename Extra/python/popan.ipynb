{
 "cells": [
  {
   "cell_type": "markdown",
   "id": "5e3ac4ae-3e0a-4c99-91ea-93f2905e927a",
   "metadata": {},
   "source": [
    "Attempting to write the popan model likelihood in jax."
   ]
  },
  {
   "cell_type": "code",
   "execution_count": 1,
   "id": "9df60733-5220-4dc3-b4ee-6b82d258036b",
   "metadata": {},
   "outputs": [],
   "source": [
    "# Import packages\n",
    "from python.popan import *"
   ]
  },
  {
   "cell_type": "code",
   "execution_count": 2,
   "id": "c465604f-db48-4ce3-b33b-4b40590fcc18",
   "metadata": {},
   "outputs": [
    {
     "data": {
      "text/plain": [
       "-9596.2578125"
      ]
     },
     "execution_count": 2,
     "metadata": {},
     "output_type": "execute_result"
    }
   ],
   "source": [
    "popan_nll_item(pars = list({\"N\": 5278.0000, \"lambda\": 1.0401, \"phi1\": 0.8828, \"p1\": 0.2520, \"p2\": 0.2570, \"p3\": 0.2080, \n",
    "                  \"p4\": 0.2040, \"p5\": 0.1840, \"p6\": 0.1820}.values()),\n",
    "         k = 6, lambdamodel = 1, gapvec = [1, 1, 1, 1, 1], nhist = 2747, firsttab = [732, 594, 375, 356, 342, 348], \n",
    "          lasttab = [336, 414, 386, 463, 512, 636], caps = [732, 755, 616, 646, 606, 636], \n",
    "          noncaps = [0, 235, 335, 275, 194, 0], survives = [396, 576, 565, 458, 288], \n",
    "          constvalues = list({'N': 0, \"lambda\": 0, \"phi1\": 0, \"phi2\": 0, \"phi3\": 0, \n",
    "                         \"phi4\": 0, \"phi5\": 0, \"p1\": 0, \"p2\": 0, \"p3\": 0, \"p4\": 0, \"p5\": 0, \"p6\": 0, \"pent1\": 0,\n",
    "                         \"pent2\": 0, \"pent3\": 0, \"pent4\": 0, \"pent5\": 0, \"pent6\": 0}.values()), \n",
    "          indsinsertintoallvalues = [0, 1, 2, 3, 4, 5, 6, 7, 8, 9, 10, 11, 12], \n",
    "          whichparsintoallvalues = [0, 1, 2, 2, 2, 2, 2, 3, 4, 5, 6, 7, 8], \n",
    "    phiinds = [2, 3, 4, 5, 6], pentinds = [13, 14, 15, 16, 17, 18], pinds = [7, 8, 9, 10, 11, 12], Nind = 0, lambdaind = 1, \n",
    "          calcind = 0)"
   ]
  },
  {
   "cell_type": "code",
   "execution_count": 5,
   "id": "b2929ca1-4f29-4815-89ad-700a4eaab58d",
   "metadata": {},
   "outputs": [
    {
     "data": {
      "text/plain": [
       "[0.045920372009277344,\n",
       " -1118.204833984375,\n",
       " -6115.72802734375,\n",
       " 1471.7083740234375,\n",
       " 408.559814453125,\n",
       " 618.8197021484375,\n",
       " 820.612060546875,\n",
       " -2407.98388671875,\n",
       " -1663.73486328125]"
      ]
     },
     "execution_count": 5,
     "metadata": {},
     "output_type": "execute_result"
    }
   ],
   "source": [
    "popan_grad_ary(list({\"N\": 5278.0000, \"lambda\": 1.0401, \"phi1\": 0.8828, \"p1\": 0.2520, \"p2\": 0.2570, \"p3\": 0.2080, \n",
    "                  \"p4\": 0.2040, \"p5\": 0.1840, \"p6\": 0.1820}.values()),\n",
    "         k = 6, lambdamodel = 1, gapvec = [1, 1, 1, 1, 1], nhist = 2747, firsttab = [732, 594, 375, 356, 342, 348], \n",
    "          lasttab = [336, 414, 386, 463, 512, 636], caps = [732, 755, 616, 646, 606, 636], \n",
    "          noncaps = [0, 235, 335, 275, 194, 0], survives = [396, 576, 565, 458, 288], \n",
    "          constvalues = list({'N': 0, \"lambda\": 0, \"phi1\": 0, \"phi2\": 0, \"phi3\": 0, \n",
    "                         \"phi4\": 0, \"phi5\": 0, \"p1\": 0, \"p2\": 0, \"p3\": 0, \"p4\": 0, \"p5\": 0, \"p6\": 0, \"pent1\": 0,\n",
    "                         \"pent2\": 0, \"pent3\": 0, \"pent4\": 0, \"pent5\": 0, \"pent6\": 0}.values()), \n",
    "          indsinsertintoallvalues = [0, 1, 2, 3, 4, 5, 6, 7, 8, 9, 10, 11, 12], \n",
    "          whichparsintoallvalues = [0, 1, 2, 2, 2, 2, 2, 3, 4, 5, 6, 7, 8], \n",
    "    phiinds = [2, 3, 4, 5, 6], pentinds = [13, 14, 15, 16, 17, 18], pinds = [7, 8, 9, 10, 11, 12], Nind = 0, lambdaind = 1, \n",
    "          calcind = 0)"
   ]
  },
  {
   "cell_type": "code",
   "execution_count": null,
   "id": "4037026e-dd0f-454a-88a5-5cc5a7327c34",
   "metadata": {},
   "outputs": [],
   "source": []
  }
 ],
 "metadata": {
  "kernelspec": {
   "display_name": "Python 3",
   "language": "python",
   "name": "python3"
  },
  "language_info": {
   "codemirror_mode": {
    "name": "ipython",
    "version": 3
   },
   "file_extension": ".py",
   "mimetype": "text/x-python",
   "name": "python",
   "nbconvert_exporter": "python",
   "pygments_lexer": "ipython3",
   "version": "3.8.8"
  }
 },
 "nbformat": 4,
 "nbformat_minor": 5
}
